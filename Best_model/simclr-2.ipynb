{
  "cells": [
    {
      "cell_type": "code",
      "source": [
        "from google.colab import drive\n",
        "drive.mount('/content/drive/')"
      ],
      "metadata": {
        "colab": {
          "base_uri": "https://localhost:8080/"
        },
        "id": "fggExtgQQj2S",
        "outputId": "c6d77915-b7e1-4f15-ce74-d27f38019949"
      },
      "execution_count": 1,
      "outputs": [
        {
          "output_type": "stream",
          "name": "stdout",
          "text": [
            "Mounted at /content/drive/\n"
          ]
        }
      ]
    },
    {
      "cell_type": "markdown",
      "metadata": {
        "id": "xEz4_oeUyQph"
      },
      "source": [
        "# ResNet18, Batch size = 512, Epochs = 100"
      ]
    },
    {
      "cell_type": "markdown",
      "source": [
        "## **1. Data Preprocessing and Augmentation**\n",
        "- **Normalization and Resizing**:\n",
        "  - Images are resized to `224x224` using Lanczos resampling and normalized with a mean of `0.5` and standard deviation of `0.5`.\n",
        "- **Data Augmentation**:\n",
        "  - Augmentation pipeline includes:\n",
        "    - `RandomResizedCrop`: Crops images to random sizes and aspect ratios.\n",
        "    - `RandomHorizontalFlip`: Randomly flips the image horizontally.\n",
        "    - `ColorJitter`: Randomly changes brightness, contrast, saturation, and hue.\n",
        "    - `GaussianBlur`: Blurs the image with a random kernel size and sigma.\n",
        "  - These augmentations help generate two different views of the same image, which is crucial for contrastive learning."
      ],
      "metadata": {
        "id": "vvZcXGGcLprZ"
      }
    },
    {
      "cell_type": "code",
      "execution_count": 2,
      "metadata": {
        "id": "Lr8m2W2I1FbD"
      },
      "outputs": [],
      "source": [
        "import numpy as np\n",
        "import torch\n",
        "from torch.utils.data import Dataset, DataLoader\n",
        "import torchvision.transforms as transforms\n",
        "from torchvision.models import resnet18\n",
        "import torch.nn as nn\n",
        "import torch.optim as optim\n",
        "from torch.optim.lr_scheduler import StepLR\n",
        "from PIL import Image\n",
        "import matplotlib.pyplot as plt\n",
        "\n",
        "train_images_path = \"/content/drive/MyDrive/Brain_images/brain_train_image_final.npy\"\n",
        "train_labels_path = \"/content/drive/MyDrive/Brain_images/brain_train_label.npy\"\n",
        "test_images_path = \"/content/drive/MyDrive/Brain_images/brain_test_image_final.npy\"\n",
        "test_labels_path = \"/content/drive/MyDrive/Brain_images/brain_test_label.npy\"\n",
        "\n",
        "# Load the data\n",
        "final_X_train_modified = np.load(train_images_path)[:, 1, :, :]\n",
        "final_X_test_modified = np.load(test_images_path)[:, 1, :, :]\n",
        "train_labels = np.load(train_labels_path)\n",
        "test_labels = np.load(test_labels_path)\n",
        "\n",
        "# Normalize and Resize Images using Pillow\n",
        "def normalize_and_resize(images, target_size=(224, 224)):\n",
        "    resized_images = []\n",
        "    for img in images:\n",
        "        img = Image.fromarray((img * 255).astype(np.uint8))\n",
        "        img_resized = img.resize(target_size, Image.Resampling.LANCZOS)\n",
        "        resized_images.append(np.array(img_resized) / 255.0)\n",
        "    return np.array(resized_images)\n",
        "\n",
        "final_X_train_resized = normalize_and_resize(final_X_train_modified)\n",
        "final_X_test_resized = normalize_and_resize(final_X_test_modified)\n",
        "\n",
        "# Define SimCLR Augmentation Transform\n",
        "transform_simclr = transforms.Compose([\n",
        "    transforms.ToPILImage(),\n",
        "    transforms.RandomResizedCrop(size=224),\n",
        "    transforms.RandomHorizontalFlip(p=0.5),\n",
        "    transforms.ColorJitter(brightness=0.5, contrast=0.5, saturation=0.5, hue=0.1),\n",
        "    transforms.GaussianBlur(kernel_size=5, sigma=(0.1, 2.0)),\n",
        "    transforms.ToTensor(),\n",
        "    transforms.Normalize(mean=[0.5], std=[0.5])\n",
        "])"
      ]
    },
    {
      "cell_type": "markdown",
      "source": [
        "## **2. Custom Dataset and Visualize Augmented Views**\n",
        "- **SimCLRDataset**:\n",
        "  - Generates two augmented views of each input image to be used as positive pairs for contrastive learning.\n",
        "  - Plot two augmented views of the same input image."
      ],
      "metadata": {
        "id": "3pzMSxXAtExY"
      }
    },
    {
      "cell_type": "code",
      "source": [
        "# Custom Dataset for SimCLR\n",
        "class SimCLRDataset(Dataset):\n",
        "    def __init__(self, images, transform):\n",
        "        self.images = images\n",
        "        self.transform = transform\n",
        "\n",
        "    def __len__(self):\n",
        "        return len(self.images)\n",
        "\n",
        "    def __getitem__(self, idx):\n",
        "        img = self.images[idx]\n",
        "        img_1 = self.transform(img)\n",
        "        img_2 = self.transform(img)\n",
        "        return img_1, img_2\n",
        "\n",
        "train_dataset = SimCLRDataset(final_X_train_resized, transform_simclr)\n",
        "train_loader = DataLoader(train_dataset, batch_size=512, shuffle=True)\n",
        "\n",
        "# Visualize Augmented Views\n",
        "def plot_augmented_views(dataset, index=0):\n",
        "    img1, img2 = dataset[index]\n",
        "    fig, axes = plt.subplots(1, 2, figsize=(8, 4))\n",
        "    for i, (img, title) in enumerate(zip([img1, img2], [\"View 1\", \"View 2\"])):\n",
        "        axes[i].imshow(img.permute(1, 2, 0).numpy().squeeze(), cmap='gray')\n",
        "        axes[i].set_title(title)\n",
        "        axes[i].axis(\"off\")\n",
        "    plt.show()\n",
        "\n",
        "plot_augmented_views(train_dataset)"
      ],
      "metadata": {
        "colab": {
          "base_uri": "https://localhost:8080/",
          "height": 342
        },
        "id": "UKNFWFlGtKl6",
        "outputId": "83774043-f8d6-405b-ffa9-cc64d0ebdca7"
      },
      "execution_count": 5,
      "outputs": [
        {
          "output_type": "display_data",
          "data": {
            "text/plain": [
              "<Figure size 800x400 with 2 Axes>"
            ],
            "image/png": "[encoded data removed]"
          },
          "metadata": {}
        }
      ]
    },
    {
      "cell_type": "markdown",
      "source": [
        "## **3. SimCLR Model Architecture**\n",
        "- **Base Encoder**:\n",
        "  - A pre-trained `ResNet-18` is used as the backbone.\n",
        "  - The first convolutional layer (`conv1`) is modified to handle single-channel (grayscale) images.\n",
        "  - The fully connected layer (`fc`) is replaced with an `Identity` layer to output feature embeddings.\n",
        "- **Projection Head**:\n",
        "  - A two-layer MLP with a hidden size of `256` and output size of `128`.\n",
        "  - Nonlinear activation (`ReLU`) is applied between the layers.\n",
        "  - The projection head helps learn representations better suited for contrastive loss."
      ],
      "metadata": {
        "id": "NJ2jash4tgH_"
      }
    },
    {
      "cell_type": "code",
      "source": [
        "# Define SimCLR Model\n",
        "class SimCLR(nn.Module):\n",
        "    def __init__(self, base_encoder, projection_dim):\n",
        "        super(SimCLR, self).__init__()\n",
        "        self.encoder = base_encoder\n",
        "        self.projector = nn.Sequential(\n",
        "            nn.Linear(512, 256),\n",
        "            nn.ReLU(),\n",
        "            nn.Linear(256, projection_dim)\n",
        "        )\n",
        "\n",
        "    def forward(self, x):\n",
        "        h = self.encoder(x)\n",
        "        z = self.projector(h)\n",
        "        return z"
      ],
      "metadata": {
        "id": "GfkbC9untnWU"
      },
      "execution_count": 6,
      "outputs": []
    },
    {
      "cell_type": "markdown",
      "source": [
        "## **4. Contrastive Loss (NT-Xent Loss)**\n",
        "- **Normalized Temperature-Scaled Cross-Entropy Loss**:\n",
        "  - Encourages the model to maximize the similarity of positive pairs (different views of the same image) while minimizing similarity to negative pairs (different images in the batch).\n",
        "  - Implements temperature scaling and softmax normalization for better gradient flow.\n",
        "  - Cross-entropy loss is used to optimize the logits."
      ],
      "metadata": {
        "id": "DAcnPpxCty8W"
      }
    },
    {
      "cell_type": "code",
      "source": [
        "# Define NT-Xent Loss\n",
        "class NTXentLoss(nn.Module):\n",
        "    def __init__(self, batch_size, temperature):\n",
        "        super(NTXentLoss, self).__init__()\n",
        "        self.batch_size = batch_size\n",
        "        self.temperature = temperature\n",
        "        self.criterion = nn.CrossEntropyLoss(reduction=\"sum\")\n",
        "\n",
        "    def forward(self, z_i, z_j):\n",
        "        N = z_i.size(0) + z_j.size(0)\n",
        "        z = torch.cat((z_i, z_j), dim=0)\n",
        "        sim = torch.matmul(z, z.T) / self.temperature\n",
        "        mask = ~torch.eye(N, dtype=torch.bool, device=z.device)\n",
        "\n",
        "        positives = torch.cat([\n",
        "            torch.diag(sim, z_i.size(0)),\n",
        "            torch.diag(sim, -z_i.size(0))\n",
        "        ])\n",
        "\n",
        "        negatives = sim[mask].view(N, -1)\n",
        "        logits = torch.cat((positives.unsqueeze(1), negatives), dim=1)\n",
        "        labels = torch.zeros(N, dtype=torch.long, device=z.device)\n",
        "        loss = self.criterion(logits, labels) / N\n",
        "        return loss"
      ],
      "metadata": {
        "id": "4E5kZc4Ct99h"
      },
      "execution_count": 7,
      "outputs": []
    },
    {
      "cell_type": "markdown",
      "source": [
        "## **5. Training Procedure**\n",
        "- **Contrastive Learning Stage**:\n",
        "  - The SimCLR model is trained using the contrastive loss on augmented image pairs.\n",
        "  - Key hyperparameters:\n",
        "    - Batch size: `512`\n",
        "    - Learning rate: `1e-4`\n",
        "    - Temperature: `0.5`\n",
        "  - The Adam optimizer is used with a `StepLR` scheduler for learning rate decay.\n",
        "- **Training Outputs**:\n",
        "  - Loss values are logged for each epoch to monitor the learning process."
      ],
      "metadata": {
        "id": "zVaCggPAu24C"
      }
    },
    {
      "cell_type": "code",
      "source": [
        "# Initialize ResNet-18 Encoder\n",
        "base_encoder = resnet18(pretrained=True)\n",
        "base_encoder.conv1 = nn.Conv2d(1, 64, kernel_size=7, stride=2, padding=3, bias=False)\n",
        "base_encoder.fc = nn.Identity()\n",
        "\n",
        "# Initialize SimCLR Model\n",
        "model = SimCLR(base_encoder, projection_dim=128).to(\"cuda\")\n",
        "optimizer = optim.Adam(model.parameters(), lr=1e-4)\n",
        "criterion = NTXentLoss(batch_size=512, temperature=0.5)\n",
        "\n",
        "# Train SimCLR Model\n",
        "for epoch in range(100):\n",
        "    total_loss = 0\n",
        "    model.train()\n",
        "    for img_1, img_2 in train_loader:\n",
        "        img_1, img_2 = img_1.to(\"cuda\"), img_2.to(\"cuda\")\n",
        "        z_i = model(img_1)\n",
        "        z_j = model(img_2)\n",
        "\n",
        "        loss = criterion(z_i, z_j)\n",
        "        optimizer.zero_grad()\n",
        "        loss.backward()\n",
        "        optimizer.step()\n",
        "\n",
        "        total_loss += loss.item()\n",
        "\n",
        "    print(f\"Epoch [{epoch+1}/100], Loss: {total_loss/len(train_loader):.4f}\")"
      ],
      "metadata": {
        "colab": {
          "base_uri": "https://localhost:8080/"
        },
        "id": "UuDPRFGUvc9j",
        "outputId": "f351c1f1-f1e5-4441-b46e-de6b70315c1f"
      },
      "execution_count": 8,
      "outputs": [
        {
          "output_type": "stream",
          "name": "stderr",
          "text": [
            "/usr/local/lib/python3.10/dist-packages/torchvision/models/_utils.py:208: UserWarning: The parameter 'pretrained' is deprecated since 0.13 and may be removed in the future, please use 'weights' instead.\n",
            "  warnings.warn(\n",
            "/usr/local/lib/python3.10/dist-packages/torchvision/models/_utils.py:223: UserWarning: Arguments other than a weight enum or `None` for 'weights' are deprecated since 0.13 and may be removed in the future. The current behavior is equivalent to passing `weights=ResNet18_Weights.IMAGENET1K_V1`. You can also use `weights=ResNet18_Weights.DEFAULT` to get the most up-to-date weights.\n",
            "  warnings.warn(msg)\n",
            "Downloading: \"https://download.pytorch.org/models/resnet18-f37072fd.pth\" to /root/.cache/torch/hub/checkpoints/resnet18-f37072fd.pth\n",
            "100%|██████████| 44.7M/44.7M [00:00<00:00, 103MB/s]\n"
          ]
        },
        {
          "output_type": "stream",
          "name": "stdout",
          "text": [
            "Epoch [1/100], Loss: 7.2551\n",
            "Epoch [2/100], Loss: 6.5896\n",
            "Epoch [3/100], Loss: 6.4120\n",
            "Epoch [4/100], Loss: 6.2888\n",
            "Epoch [5/100], Loss: 6.1811\n",
            "Epoch [6/100], Loss: 6.0416\n",
            "Epoch [7/100], Loss: 5.9084\n",
            "Epoch [8/100], Loss: 5.7516\n",
            "Epoch [9/100], Loss: 5.5591\n",
            "Epoch [10/100], Loss: 5.5214\n",
            "Epoch [11/100], Loss: 5.3196\n",
            "Epoch [12/100], Loss: 5.1074\n",
            "Epoch [13/100], Loss: 5.0292\n",
            "Epoch [14/100], Loss: 4.8832\n",
            "Epoch [15/100], Loss: 4.7634\n",
            "Epoch [16/100], Loss: 4.5815\n",
            "Epoch [17/100], Loss: 4.5806\n",
            "Epoch [18/100], Loss: 4.3924\n",
            "Epoch [19/100], Loss: 4.3848\n",
            "Epoch [20/100], Loss: 4.3051\n",
            "Epoch [21/100], Loss: 4.2134\n",
            "Epoch [22/100], Loss: 4.0474\n",
            "Epoch [23/100], Loss: 3.8507\n",
            "Epoch [24/100], Loss: 3.9135\n",
            "Epoch [25/100], Loss: 3.7608\n",
            "Epoch [26/100], Loss: 3.6409\n",
            "Epoch [27/100], Loss: 3.6422\n",
            "Epoch [28/100], Loss: 3.5037\n",
            "Epoch [29/100], Loss: 3.4751\n",
            "Epoch [30/100], Loss: 3.5296\n",
            "Epoch [31/100], Loss: 3.3271\n",
            "Epoch [32/100], Loss: 3.3230\n",
            "Epoch [33/100], Loss: 3.3371\n",
            "Epoch [34/100], Loss: 3.2978\n",
            "Epoch [35/100], Loss: 3.1888\n",
            "Epoch [36/100], Loss: 3.1139\n",
            "Epoch [37/100], Loss: 3.0516\n",
            "Epoch [38/100], Loss: 3.0867\n",
            "Epoch [39/100], Loss: 2.9860\n",
            "Epoch [40/100], Loss: 3.0520\n",
            "Epoch [41/100], Loss: 2.9783\n",
            "Epoch [42/100], Loss: 2.9271\n",
            "Epoch [43/100], Loss: 2.9314\n",
            "Epoch [44/100], Loss: 2.8733\n",
            "Epoch [45/100], Loss: 2.9867\n",
            "Epoch [46/100], Loss: 2.9503\n",
            "Epoch [47/100], Loss: 2.8117\n",
            "Epoch [48/100], Loss: 2.7935\n",
            "Epoch [49/100], Loss: 2.6884\n",
            "Epoch [50/100], Loss: 2.7391\n",
            "Epoch [51/100], Loss: 2.7103\n",
            "Epoch [52/100], Loss: 2.6973\n",
            "Epoch [53/100], Loss: 2.7205\n",
            "Epoch [54/100], Loss: 2.7809\n",
            "Epoch [55/100], Loss: 2.6797\n",
            "Epoch [56/100], Loss: 2.7243\n",
            "Epoch [57/100], Loss: 2.5597\n",
            "Epoch [58/100], Loss: 2.7504\n",
            "Epoch [59/100], Loss: 2.6094\n",
            "Epoch [60/100], Loss: 2.7372\n",
            "Epoch [61/100], Loss: 2.4785\n",
            "Epoch [62/100], Loss: 2.6253\n",
            "Epoch [63/100], Loss: 2.5330\n",
            "Epoch [64/100], Loss: 2.6234\n",
            "Epoch [65/100], Loss: 2.5633\n",
            "Epoch [66/100], Loss: 2.6333\n",
            "Epoch [67/100], Loss: 2.5855\n",
            "Epoch [68/100], Loss: 2.4678\n",
            "Epoch [69/100], Loss: 2.4445\n",
            "Epoch [70/100], Loss: 2.6314\n",
            "Epoch [71/100], Loss: 2.4376\n",
            "Epoch [72/100], Loss: 2.4800\n",
            "Epoch [73/100], Loss: 2.5152\n",
            "Epoch [74/100], Loss: 2.4676\n",
            "Epoch [75/100], Loss: 2.4474\n",
            "Epoch [76/100], Loss: 2.3989\n",
            "Epoch [77/100], Loss: 2.4215\n",
            "Epoch [78/100], Loss: 2.3774\n",
            "Epoch [79/100], Loss: 2.3463\n",
            "Epoch [80/100], Loss: 2.3305\n",
            "Epoch [81/100], Loss: 2.3598\n",
            "Epoch [82/100], Loss: 2.4474\n",
            "Epoch [83/100], Loss: 2.3759\n",
            "Epoch [84/100], Loss: 2.3274\n",
            "Epoch [85/100], Loss: 2.5368\n",
            "Epoch [86/100], Loss: 2.2860\n",
            "Epoch [87/100], Loss: 2.4272\n",
            "Epoch [88/100], Loss: 2.3090\n",
            "Epoch [89/100], Loss: 2.3165\n",
            "Epoch [90/100], Loss: 2.3193\n",
            "Epoch [91/100], Loss: 2.2234\n",
            "Epoch [92/100], Loss: 2.3926\n",
            "Epoch [93/100], Loss: 2.2651\n",
            "Epoch [94/100], Loss: 2.2903\n",
            "Epoch [95/100], Loss: 2.2939\n",
            "Epoch [96/100], Loss: 2.2802\n",
            "Epoch [97/100], Loss: 2.2389\n",
            "Epoch [98/100], Loss: 2.2630\n",
            "Epoch [99/100], Loss: 2.2926\n",
            "Epoch [100/100], Loss: 2.2861\n"
          ]
        }
      ]
    },
    {
      "cell_type": "markdown",
      "source": [
        "# Save the model"
      ],
      "metadata": {
        "id": "V7C53rqfZccm"
      }
    },
    {
      "cell_type": "code",
      "source": [
        "torch.save(model.state_dict(), \"simclr_pretrained.pth\")"
      ],
      "metadata": {
        "id": "00Wp2HJZZhfb"
      },
      "execution_count": 9,
      "outputs": []
    },
    {
      "cell_type": "code",
      "source": [
        "from google.colab import files\n",
        "files.download(\"simclr_pretrained.pth\")"
      ],
      "metadata": {
        "colab": {
          "base_uri": "https://localhost:8080/",
          "height": 18
        },
        "id": "WD59KE7RZ91d",
        "outputId": "129c6b55-c5bf-4aee-e4ed-45079f8372ae"
      },
      "execution_count": 10,
      "outputs": [
        {
          "output_type": "display_data",
          "data": {
            "text/plain": [
              "<IPython.core.display.Javascript object>"
            ],
            "application/javascript": [
              "\n",
              "    async function download(id, filename, size) {\n",
              "      if (!google.colab.kernel.accessAllowed) {\n",
              "        return;\n",
              "      }\n",
              "      const div = document.createElement('div');\n",
              "      const label = document.createElement('label');\n",
              "      label.textContent = `Downloading \"${filename}\": `;\n",
              "      div.appendChild(label);\n",
              "      const progress = document.createElement('progress');\n",
              "      progress.max = size;\n",
              "      div.appendChild(progress);\n",
              "      document.body.appendChild(div);\n",
              "\n",
              "      const buffers = [];\n",
              "      let downloaded = 0;\n",
              "\n",
              "      const channel = await google.colab.kernel.comms.open(id);\n",
              "      // Send a message to notify the kernel that we're ready.\n",
              "      channel.send({})\n",
              "\n",
              "      for await (const message of channel.messages) {\n",
              "        // Send a message to notify the kernel that we're ready.\n",
              "        channel.send({})\n",
              "        if (message.buffers) {\n",
              "          for (const buffer of message.buffers) {\n",
              "            buffers.push(buffer);\n",
              "            downloaded += buffer.byteLength;\n",
              "            progress.value = downloaded;\n",
              "          }\n",
              "        }\n",
              "      }\n",
              "      const blob = new Blob(buffers, {type: 'application/binary'});\n",
              "      const a = document.createElement('a');\n",
              "      a.href = window.URL.createObjectURL(blob);\n",
              "      a.download = filename;\n",
              "      div.appendChild(a);\n",
              "      a.click();\n",
              "      div.remove();\n",
              "    }\n",
              "  "
            ]
          },
          "metadata": {}
        },
        {
          "output_type": "display_data",
          "data": {
            "text/plain": [
              "<IPython.core.display.Javascript object>"
            ],
            "application/javascript": [
              "download(\"download_cadc37e4-40a9-46cb-aeb9-18b0fb6c9bda\", \"simclr_pretrained.pth\", 45420282)"
            ]
          },
          "metadata": {}
        }
      ]
    },
    {
      "cell_type": "markdown",
      "source": [
        "## **6. Downstream Task: Classification**\n",
        "- **Linear Evaluation Protocol**:\n",
        "  - The pre-trained encoder is fine-tuned with a classification head for supervised learning on the labeled dataset.\n",
        "  - Classification head:\n",
        "    - A single linear layer mapping encoder outputs (`512`) to the number of classes.\n",
        "  - Fine-tuning:\n",
        "    - Encoder weights are updated at a slower learning rate (`1e-5`) than the classification head (`1e-3`).\n",
        "    - Cross-entropy loss is used for optimization.\n",
        "- **Performance Evaluation**:\n",
        "  - Test accuracy is computed on the held-out test set to measure the model's performance."
      ],
      "metadata": {
        "id": "nXaB6N9hMCxQ"
      }
    },
    {
      "cell_type": "code",
      "source": [
        "# Define Dataset for Classification\n",
        "class TestDataset(Dataset):\n",
        "    def __init__(self, images, labels, transform=None):\n",
        "        self.images = images\n",
        "        self.labels = labels\n",
        "        self.transform = transform\n",
        "\n",
        "    def __len__(self):\n",
        "        return len(self.images)\n",
        "\n",
        "    def __getitem__(self, idx):\n",
        "        img = self.images[idx]\n",
        "        label = self.labels[idx]\n",
        "        if self.transform:\n",
        "            img = self.transform(img)\n",
        "        return img, label\n",
        "\n",
        "# Initialize Training and Test Dataset and DataLoader\n",
        "train_transform = transforms.Compose([\n",
        "    transforms.ToPILImage(),\n",
        "    transforms.Resize((224, 224)),\n",
        "    transforms.ToTensor(),\n",
        "    transforms.Normalize(mean=[0.5], std=[0.5])\n",
        "])\n",
        "\n",
        "test_transform = transforms.Compose([\n",
        "    transforms.ToPILImage(),\n",
        "    transforms.Resize((224, 224)),\n",
        "    transforms.ToTensor(),\n",
        "    transforms.Normalize(mean=[0.5], std=[0.5])\n",
        "])\n",
        "\n",
        "train_dataset = TestDataset(final_X_train_resized, train_labels, transform=train_transform)\n",
        "train_loader = DataLoader(train_dataset, batch_size=128, shuffle=True)\n",
        "\n",
        "test_dataset = TestDataset(final_X_test_resized, test_labels, transform=test_transform)\n",
        "test_loader = DataLoader(test_dataset, batch_size=128, shuffle=False)\n",
        "\n",
        "# Add Classification Head\n",
        "class ClassificationHead(nn.Module):\n",
        "    def __init__(self, input_dim, num_classes):\n",
        "        super(ClassificationHead, self).__init__()\n",
        "        self.fc = nn.Linear(input_dim, num_classes)\n",
        "\n",
        "    def forward(self, x):\n",
        "        return self.fc(x)\n",
        "\n",
        "classification_head = ClassificationHead(input_dim=512, num_classes=len(np.unique(train_labels))).to(\"cuda\")\n",
        "optimizer_cls = optim.Adam([\n",
        "    {\"params\": model.encoder.parameters(), \"lr\": 1e-5},\n",
        "    {\"params\": classification_head.parameters(), \"lr\": 1e-3},\n",
        "])\n",
        "scheduler_cls = StepLR(optimizer_cls, step_size=10, gamma=0.5)\n",
        "criterion_cls = nn.CrossEntropyLoss()\n",
        "\n",
        "# Fine-tune Classification Head\n",
        "for epoch in range(100):\n",
        "    model.encoder.train()\n",
        "    classification_head.train()\n",
        "    total_loss = 0\n",
        "    correct = 0\n",
        "    for img, label in DataLoader(train_dataset, batch_size=128, shuffle=True):\n",
        "        img, label = img.to(\"cuda\"), label.to(\"cuda\")\n",
        "        features = model.encoder(img)\n",
        "        logits = classification_head(features)\n",
        "        loss = criterion_cls(logits, label)\n",
        "\n",
        "        optimizer_cls.zero_grad()\n",
        "        loss.backward()\n",
        "        optimizer_cls.step()\n",
        "\n",
        "        total_loss += loss.item()\n",
        "        correct += (logits.argmax(dim=1) == label).sum().item()\n",
        "\n",
        "    accuracy = correct / len(train_labels)\n",
        "    scheduler_cls.step()\n",
        "    print(f\"Epoch [{epoch+1}/100], Loss: {total_loss/len(train_loader):.4f}, Accuracy: {accuracy:.4f}\")\n",
        "\n",
        "# Evaluate on Test Dataset\n",
        "classification_head.eval()\n",
        "correct = 0\n",
        "with torch.no_grad():\n",
        "    for img, label in DataLoader(test_dataset, batch_size=128, shuffle=False):\n",
        "        img, label = img.to(\"cuda\"), label.to(\"cuda\")\n",
        "        features = model.encoder(img)\n",
        "        logits = classification_head(features)\n",
        "        correct += (logits.argmax(dim=1) == label).sum().item()\n",
        "\n",
        "test_accuracy = correct / len(test_labels)\n",
        "print(f\"Test Accuracy: {test_accuracy:.4f}\")"
      ],
      "metadata": {
        "colab": {
          "base_uri": "https://localhost:8080/"
        },
        "id": "yhbj6z2Qxheb",
        "outputId": "726ef711-20bc-4f74-9132-33f5ab095df0"
      },
      "execution_count": 15,
      "outputs": [
        {
          "output_type": "stream",
          "name": "stdout",
          "text": [
            "Epoch [1/100], Loss: 0.5543, Accuracy: 0.8196\n",
            "Epoch [2/100], Loss: 0.0914, Accuracy: 1.0000\n",
            "Epoch [3/100], Loss: 0.0308, Accuracy: 1.0000\n",
            "Epoch [4/100], Loss: 0.0157, Accuracy: 1.0000\n",
            "Epoch [5/100], Loss: 0.0108, Accuracy: 1.0000\n",
            "Epoch [6/100], Loss: 0.0085, Accuracy: 1.0000\n",
            "Epoch [7/100], Loss: 0.0071, Accuracy: 1.0000\n",
            "Epoch [8/100], Loss: 0.0052, Accuracy: 1.0000\n",
            "Epoch [9/100], Loss: 0.0047, Accuracy: 1.0000\n",
            "Epoch [10/100], Loss: 0.0038, Accuracy: 1.0000\n",
            "Epoch [11/100], Loss: 0.0035, Accuracy: 1.0000\n",
            "Epoch [12/100], Loss: 0.0031, Accuracy: 1.0000\n",
            "Epoch [13/100], Loss: 0.0029, Accuracy: 1.0000\n",
            "Epoch [14/100], Loss: 0.0030, Accuracy: 1.0000\n",
            "Epoch [15/100], Loss: 0.0029, Accuracy: 1.0000\n",
            "Epoch [16/100], Loss: 0.0024, Accuracy: 1.0000\n",
            "Epoch [17/100], Loss: 0.0027, Accuracy: 1.0000\n",
            "Epoch [18/100], Loss: 0.0023, Accuracy: 1.0000\n",
            "Epoch [19/100], Loss: 0.0019, Accuracy: 1.0000\n",
            "Epoch [20/100], Loss: 0.0022, Accuracy: 1.0000\n",
            "Epoch [21/100], Loss: 0.0018, Accuracy: 1.0000\n",
            "Epoch [22/100], Loss: 0.0017, Accuracy: 1.0000\n",
            "Epoch [23/100], Loss: 0.0017, Accuracy: 1.0000\n",
            "Epoch [24/100], Loss: 0.0018, Accuracy: 1.0000\n",
            "Epoch [25/100], Loss: 0.0017, Accuracy: 1.0000\n",
            "Epoch [26/100], Loss: 0.0017, Accuracy: 1.0000\n",
            "Epoch [27/100], Loss: 0.0017, Accuracy: 1.0000\n",
            "Epoch [28/100], Loss: 0.0016, Accuracy: 1.0000\n",
            "Epoch [29/100], Loss: 0.0016, Accuracy: 1.0000\n",
            "Epoch [30/100], Loss: 0.0016, Accuracy: 1.0000\n",
            "Epoch [31/100], Loss: 0.0014, Accuracy: 1.0000\n",
            "Epoch [32/100], Loss: 0.0015, Accuracy: 1.0000\n",
            "Epoch [33/100], Loss: 0.0014, Accuracy: 1.0000\n",
            "Epoch [34/100], Loss: 0.0016, Accuracy: 1.0000\n",
            "Epoch [35/100], Loss: 0.0013, Accuracy: 1.0000\n",
            "Epoch [36/100], Loss: 0.0013, Accuracy: 1.0000\n",
            "Epoch [37/100], Loss: 0.0013, Accuracy: 1.0000\n",
            "Epoch [38/100], Loss: 0.0013, Accuracy: 1.0000\n",
            "Epoch [39/100], Loss: 0.0016, Accuracy: 1.0000\n",
            "Epoch [40/100], Loss: 0.0014, Accuracy: 1.0000\n",
            "Epoch [41/100], Loss: 0.0013, Accuracy: 1.0000\n",
            "Epoch [42/100], Loss: 0.0013, Accuracy: 1.0000\n",
            "Epoch [43/100], Loss: 0.0012, Accuracy: 1.0000\n",
            "Epoch [44/100], Loss: 0.0012, Accuracy: 1.0000\n",
            "Epoch [45/100], Loss: 0.0013, Accuracy: 1.0000\n",
            "Epoch [46/100], Loss: 0.0012, Accuracy: 1.0000\n",
            "Epoch [47/100], Loss: 0.0011, Accuracy: 1.0000\n",
            "Epoch [48/100], Loss: 0.0013, Accuracy: 1.0000\n",
            "Epoch [49/100], Loss: 0.0012, Accuracy: 1.0000\n",
            "Epoch [50/100], Loss: 0.0012, Accuracy: 1.0000\n",
            "Epoch [51/100], Loss: 0.0012, Accuracy: 1.0000\n",
            "Epoch [52/100], Loss: 0.0011, Accuracy: 1.0000\n",
            "Epoch [53/100], Loss: 0.0011, Accuracy: 1.0000\n",
            "Epoch [54/100], Loss: 0.0013, Accuracy: 1.0000\n",
            "Epoch [55/100], Loss: 0.0013, Accuracy: 1.0000\n",
            "Epoch [56/100], Loss: 0.0012, Accuracy: 1.0000\n",
            "Epoch [57/100], Loss: 0.0014, Accuracy: 1.0000\n",
            "Epoch [58/100], Loss: 0.0011, Accuracy: 1.0000\n",
            "Epoch [59/100], Loss: 0.0012, Accuracy: 1.0000\n",
            "Epoch [60/100], Loss: 0.0011, Accuracy: 1.0000\n",
            "Epoch [61/100], Loss: 0.0011, Accuracy: 1.0000\n",
            "Epoch [62/100], Loss: 0.0012, Accuracy: 1.0000\n",
            "Epoch [63/100], Loss: 0.0012, Accuracy: 1.0000\n",
            "Epoch [64/100], Loss: 0.0012, Accuracy: 1.0000\n",
            "Epoch [65/100], Loss: 0.0011, Accuracy: 1.0000\n",
            "Epoch [66/100], Loss: 0.0011, Accuracy: 1.0000\n",
            "Epoch [67/100], Loss: 0.0011, Accuracy: 1.0000\n",
            "Epoch [68/100], Loss: 0.0011, Accuracy: 1.0000\n",
            "Epoch [69/100], Loss: 0.0010, Accuracy: 1.0000\n",
            "Epoch [70/100], Loss: 0.0011, Accuracy: 1.0000\n",
            "Epoch [71/100], Loss: 0.0011, Accuracy: 1.0000\n",
            "Epoch [72/100], Loss: 0.0011, Accuracy: 1.0000\n",
            "Epoch [73/100], Loss: 0.0011, Accuracy: 1.0000\n",
            "Epoch [74/100], Loss: 0.0011, Accuracy: 1.0000\n",
            "Epoch [75/100], Loss: 0.0012, Accuracy: 1.0000\n",
            "Epoch [76/100], Loss: 0.0010, Accuracy: 1.0000\n",
            "Epoch [77/100], Loss: 0.0011, Accuracy: 1.0000\n",
            "Epoch [78/100], Loss: 0.0012, Accuracy: 1.0000\n",
            "Epoch [79/100], Loss: 0.0012, Accuracy: 1.0000\n",
            "Epoch [80/100], Loss: 0.0012, Accuracy: 1.0000\n",
            "Epoch [81/100], Loss: 0.0010, Accuracy: 1.0000\n",
            "Epoch [82/100], Loss: 0.0012, Accuracy: 1.0000\n",
            "Epoch [83/100], Loss: 0.0011, Accuracy: 1.0000\n",
            "Epoch [84/100], Loss: 0.0014, Accuracy: 1.0000\n",
            "Epoch [85/100], Loss: 0.0010, Accuracy: 1.0000\n",
            "Epoch [86/100], Loss: 0.0012, Accuracy: 1.0000\n",
            "Epoch [87/100], Loss: 0.0011, Accuracy: 1.0000\n",
            "Epoch [88/100], Loss: 0.0011, Accuracy: 1.0000\n",
            "Epoch [89/100], Loss: 0.0011, Accuracy: 1.0000\n",
            "Epoch [90/100], Loss: 0.0010, Accuracy: 1.0000\n",
            "Epoch [91/100], Loss: 0.0010, Accuracy: 1.0000\n",
            "Epoch [92/100], Loss: 0.0011, Accuracy: 1.0000\n",
            "Epoch [93/100], Loss: 0.0010, Accuracy: 1.0000\n",
            "Epoch [94/100], Loss: 0.0011, Accuracy: 1.0000\n",
            "Epoch [95/100], Loss: 0.0012, Accuracy: 1.0000\n",
            "Epoch [96/100], Loss: 0.0012, Accuracy: 1.0000\n",
            "Epoch [97/100], Loss: 0.0010, Accuracy: 1.0000\n",
            "Epoch [98/100], Loss: 0.0012, Accuracy: 1.0000\n",
            "Epoch [99/100], Loss: 0.0011, Accuracy: 1.0000\n",
            "Epoch [100/100], Loss: 0.0012, Accuracy: 1.0000\n",
            "Test Accuracy: 0.9181\n"
          ]
        }
      ]
    },
    {
      "cell_type": "markdown",
      "source": [
        "Test Accuracy: 0.9181"
      ],
      "metadata": {
        "id": "rjhFtB04tBJY"
      }
    },
    {
      "cell_type": "code",
      "source": [],
      "metadata": {
        "id": "uei7T4XwbHvN"
      },
      "execution_count": null,
      "outputs": []
    }
  ],
  "metadata": {
    "accelerator": "GPU",
    "colab": {
      "machine_shape": "hm",
      "provenance": [],
      "gpuType": "A100"
    },
    "kernelspec": {
      "display_name": "Python 3",
      "name": "python3"
    },
    "language_info": {
      "codemirror_mode": {
        "name": "ipython",
        "version": 3
      },
      "file_extension": ".py",
      "mimetype": "text/x-python",
      "name": "python",
      "nbconvert_exporter": "python",
      "pygments_lexer": "ipython3",
      "version": "3.7.9"
    }
  },
  "nbformat": 4,
  "nbformat_minor": 0
}